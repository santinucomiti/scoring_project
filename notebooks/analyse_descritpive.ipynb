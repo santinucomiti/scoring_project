{
 "cells": [
  {
   "cell_type": "markdown",
   "metadata": {},
   "source": [
    "## Données :\n",
    "**Dans ce projet, vous travaillez pour une Banque vous demandant d’élaborer un outil automatisant le\n",
    "process d’octroi de crédit à ses futurs clients. La banque dispose d’un historique des crédits effectués\n",
    "par ses clients, avec des informations personnelles sur le client et s’il a fait défaut ou non pendant la\n",
    "période de remboursement du crédit. Les données contiennent les informations ci-dessous :**\n",
    "- *SK_ID_CURR* : identifiant du client\n",
    "- *GOOD_PAYER* : 1 s’il n’y a pas eu de retard de remboursement, 0 sinon\n",
    "- *CODE_GENDER* : le genre du client\n",
    "- *FLAG_OWN_CAR* : le client possède une voiture\n",
    "- *FLAG_OWN_REALTY* : le client est propriétaire\n",
    "- *CNT_CHILDREN* : nombre d’enfant du client\n",
    "- *AMT_INCOME_TOTAL* : les revenus du client\n",
    "- *AMT_CREDIT* : le montant du crédit\n",
    "- *AMT_GOODS_PRICE* : le montant du produit pour lequel le crédit a été pris\n",
    "- *NAME_INCOME_TYPE* : le type de revenus du client\n",
    "- *NAME_EDUCATION_TYPE* : niveau académique du client\n",
    "- *NAME_FAMILY_STATUS*: status familial du client\n",
    "- *NAME_CONTRACT_TYPE*: crédit comptant ou en revolving\n",
    "- *NAME_HOUSING_TYPE*: situation habitat\n",
    "- *TOTALAREA_MODE*: surface normalisée d’habitation- DAYS_BIRTH: Age du client\n",
    "- *DAYS_EMPLOYED* : nombre d’année consécutif du dernier emploi du client\n",
    "- *OCCUPATION_TYPE* : profession du client\n",
    "- *ORGANIZATION_TYPE* : secteur d’emploi\n",
    "- *EXT_SOURCE_1* : score de crédit bureau 1\n",
    "- *EXT_SOURCE_2* : score de crédit bureau 2\n",
    "- *EXT_SOURCE_3* : score de crédit bureau 3\n",
    "- *AMT_REQ_CREDIT_BUREAU_YEAR*: nombre de demande de crédit effectué par le client\n",
    "dans l’année précédente"
   ]
  },
  {
   "cell_type": "markdown",
   "metadata": {},
   "source": [
    "### Objectifs 1 : analyser les données dans le but de décrire le portfolio des clients pour la Banque\n",
    "- Analyse univariée et bivariée :\n",
    "- Moyenne, médiane, quartile, comptage\n",
    "- Corrélation : variables explicatives et la variable cible (anova, pearson)\n",
    "- Distribution des variables (ex : kurtosis, distribution normal)\n",
    "- Analyse des valeurs extrêmes / aberrantes (ex : Interquartile Range Method)\n",
    "\n",
    "### Traitement des valeurs manquantes\n",
    "- Taux de risque / %BP et %MP selon les modalités (Analyse Marginale)\n",
    "Visualisation des données : boxplot, histogramme, piechart, nuage de point\n",
    "- Calcul de métrique d’importances des variables :\n",
    "- WOE, IV, GINI\n",
    "- Test de significativité"
   ]
  },
  {
   "cell_type": "code",
   "execution_count": null,
   "metadata": {},
   "outputs": [
    {
     "name": "stdout",
     "output_type": "stream",
     "text": [
      "--- Analyse pour la variable : CNT_CHILDREN ---\n",
      " - Moyenne : 0.4170517477423572\n",
      " - Écart-type : 0.7221213844376252\n",
      "0    0\n",
      "1    0\n",
      "2    0\n",
      "3    0\n",
      "4    0\n",
      "Name: CNT_CHILDREN, dtype: int64\n",
      "Test de D’Agostino-Pearson : p-value = 0.0\n",
      "   => Distribution non normale.\n"
     ]
    }
   ],
   "source": [
    "import pandas as pd\n",
    "import os \n",
    "import numpy as np\n",
    "import matplotlib.pyplot as plt\n",
    "from scipy.stats import shapiro\n",
    "from scipy.stats import normaltest\n",
    "\n",
    "# Obtenir le répertoire courant\n",
    "script_dir = os.getcwd()\n",
    "\n",
    "# Construire le chemin relatif\n",
    "relative_path = os.path.join(script_dir, '../ressources_prof/client_credit_granting.csv')\n",
    "\n",
    "# Charger les données\n",
    "df = pd.read_csv(relative_path)\n",
    "\n",
    "# Identifier les types de variables\n",
    "categorical_vars = [\n",
    "    'CODE_GENDER', 'FLAG_OWN_CAR', 'FLAG_OWN_REALTY',\n",
    "    'NAME_INCOME_TYPE', 'NAME_EDUCATION_TYPE', 'NAME_FAMILY_STATUS',\n",
    "    'NAME_CONTRACT_TYPE', 'NAME_HOUSING_TYPE', 'OCCUPATION_TYPE', 'ORGANIZATION_TYPE'\n",
    "]\n",
    "binary_vars = ['GOOD_PAYER']\n",
    "quantitative_vars = [\n",
    "    'CNT_CHILDREN', 'AMT_INCOME_TOTAL', 'AMT_CREDIT', 'AMT_GOODS_PRICE',\n",
    "    'DAYS_BIRTH', 'DAYS_EMPLOYED', 'TOTALAREA_MODE',\n",
    "    'EXT_SOURCE_1', 'EXT_SOURCE_2', 'EXT_SOURCE_3', 'AMT_REQ_CREDIT_BUREAU_YEAR'\n",
    "]\n",
    "\n",
    "# Analyse univariée : variables quantitatives\n",
    "for var in quantitative_vars:\n",
    "    print(f'--- Analyse pour la variable : {var} ---')\n",
    "    \n",
    "    # Calculs descriptifs\n",
    "    mean_val = df[var].mean()\n",
    "    std_val = df[var].std()\n",
    "    print(f' - Moyenne : {mean_val}')\n",
    "    print(f' - Écart-type : {std_val}')\n",
    "    \n",
    "    # Test de Shapiro-Wilk pour la normalité\n",
    "    clean_data = df[var].dropna()  # Retirer les valeurs manquantes\n",
    "    print(clean_data.head())\n",
    "    stat, p_value = normaltest(clean_data)\n",
    "    print(f'Test de D’Agostino-Pearson : p-value = {p_value}')\n",
    "    if p_value < 0.05:\n",
    "        print(f'   => Distribution non normale.')\n",
    "    else:\n",
    "        print(f'   => Distribution normale.')\n",
    "    \n",
    "    # Histogramme de la distribution\n",
    "    df[var].plot(kind='hist', bins=50, title=f'Distribution de {var}', alpha=0.7)\n",
    "    plt.xlabel(var)\n",
    "    plt.ylabel('Fréquence')\n",
    "    plt.show()\n",
    "\n",
    "    # Boxplot de la variable\n",
    "    df[var].plot(kind='box', title=f'Boxplot de {var}')\n",
    "    plt.ylabel(var)\n",
    "    plt.show()\n",
    "\n"
   ]
  },
  {
   "cell_type": "markdown",
   "metadata": {},
   "source": [
    "    "
   ]
  }
 ],
 "metadata": {
  "kernelspec": {
   "display_name": "Python 3",
   "language": "python",
   "name": "python3"
  },
  "language_info": {
   "codemirror_mode": {
    "name": "ipython",
    "version": 3
   },
   "file_extension": ".py",
   "mimetype": "text/x-python",
   "name": "python",
   "nbconvert_exporter": "python",
   "pygments_lexer": "ipython3",
   "version": "3.10.12"
  }
 },
 "nbformat": 4,
 "nbformat_minor": 2
}
