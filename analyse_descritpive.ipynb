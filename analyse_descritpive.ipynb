{
 "cells": [
  {
   "cell_type": "markdown",
   "metadata": {},
   "source": [
    "## Données :\n",
    "**Dans ce projet, vous travaillez pour une Banque vous demandant d’élaborer un outil automatisant le\n",
    "process d’octroi de crédit à ses futurs clients. La banque dispose d’un historique des crédits effectués\n",
    "par ses clients, avec des informations personnelles sur le client et s’il a fait défaut ou non pendant la\n",
    "période de remboursement du crédit. Les données contiennent les informations ci-dessous :**\n",
    "- *SK_ID_CURR* : identifiant du client\n",
    "- *GOOD_PAYER* : 1 s’il n’y a pas eu de retard de remboursement, 0 sinon\n",
    "- *CODE_GENDER* : le genre du client\n",
    "- *FLAG_OWN_CAR* : le client possède une voiture\n",
    "- *FLAG_OWN_REALTY* : le client est propriétaire\n",
    "- *CNT_CHILDREN* : nombre d’enfant du client\n",
    "- *AMT_INCOME_TOTAL* : les revenus du client\n",
    "- *AMT_CREDIT* : le montant du crédit\n",
    "- *AMT_GOODS_PRICE* : le montant du produit pour lequel le crédit a été pris\n",
    "- *NAME_INCOME_TYPE* : le type de revenus du client\n",
    "- *NAME_EDUCATION_TYPE* : niveau académique du client\n",
    "- *NAME_FAMILY_STATUS*: status familial du client\n",
    "- *NAME_CONTRACT_TYPE*: crédit comptant ou en revolving\n",
    "- *NAME_HOUSING_TYPE*: situation habitat\n",
    "- *TOTALAREA_MODE*: surface normalisée d’habitation- DAYS_BIRTH: Age du client\n",
    "- *DAYS_EMPLOYED* : nombre d’année consécutif du dernier emploi du client\n",
    "- *OCCUPATION_TYPE* : profession du client\n",
    "- *ORGANIZATION_TYPE* : secteur d’emploi\n",
    "- *EXT_SOURCE_1* : score de crédit bureau 1\n",
    "- *EXT_SOURCE_2* : score de crédit bureau 2\n",
    "- *EXT_SOURCE_3* : score de crédit bureau 3\n",
    "- *AMT_REQ_CREDIT_BUREAU_YEARS*: nombre de demande de crédit effectué par le client\n",
    "dans l’année précédente"
   ]
  },
  {
   "cell_type": "code",
   "execution_count": null,
   "metadata": {
    "vscode": {
     "languageId": "plaintext"
    }
   },
   "outputs": [],
   "source": []
  }
 ],
 "metadata": {
  "language_info": {
   "name": "python"
  }
 },
 "nbformat": 4,
 "nbformat_minor": 2
}
